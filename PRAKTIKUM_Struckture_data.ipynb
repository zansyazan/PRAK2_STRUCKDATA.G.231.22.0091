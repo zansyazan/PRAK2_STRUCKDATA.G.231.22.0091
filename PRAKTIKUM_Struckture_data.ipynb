{
  "nbformat": 4,
  "nbformat_minor": 0,
  "metadata": {
    "colab": {
      "provenance": []
    },
    "kernelspec": {
      "name": "python3",
      "display_name": "Python 3"
    },
    "language_info": {
      "name": "python"
    }
  },
  "cells": [
    {
      "cell_type": "code",
      "source": [
        "def selectionSort(alist):\n",
        "    for slot in range(0, len(alist) - 1):\n",
        "        position = slot\n",
        "        for location in range(slot + 1, len(alist)):\n",
        "            if alist[location] < alist[position]:\n",
        "                position = location\n",
        "        temp = alist[slot]\n",
        "        alist[slot] = alist[position]\n",
        "        alist[position] = temp\n",
        "        print(alist)\n",
        "\n",
        "angka = [6, 1, 4, 2, 8, 10, 7]\n",
        "selectionSort(angka)\n",
        "print(angka)\n"
      ],
      "metadata": {
        "colab": {
          "base_uri": "https://localhost:8080/"
        },
        "id": "jL9U0F-HJf2c",
        "outputId": "1ba683ff-b68c-4326-8df4-3d5d87fce0cf"
      },
      "execution_count": 6,
      "outputs": [
        {
          "output_type": "stream",
          "name": "stdout",
          "text": [
            "[1, 6, 4, 2, 8, 10, 7]\n",
            "[1, 2, 4, 6, 8, 10, 7]\n",
            "[1, 2, 4, 6, 8, 10, 7]\n",
            "[1, 2, 4, 6, 8, 10, 7]\n",
            "[1, 2, 4, 6, 7, 10, 8]\n",
            "[1, 2, 4, 6, 7, 8, 10]\n",
            "[1, 2, 4, 6, 7, 8, 10]\n"
          ]
        }
      ]
    }
  ]
}